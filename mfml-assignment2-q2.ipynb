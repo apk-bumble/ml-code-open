{
  "nbformat": 4,
  "nbformat_minor": 0,
  "metadata": {
    "colab": {
      "provenance": [],
      "authorship_tag": "ABX9TyN23HTPoshaPf2E2R5WkIKq",
      "include_colab_link": true
    },
    "kernelspec": {
      "name": "python3",
      "display_name": "Python 3"
    },
    "language_info": {
      "name": "python"
    }
  },
  "cells": [
    {
      "cell_type": "markdown",
      "metadata": {
        "id": "view-in-github",
        "colab_type": "text"
      },
      "source": [
        "<a href=\"https://colab.research.google.com/github/apk-bumble/ml-code-open/blob/main/mfml-assignment2-q2.ipynb\" target=\"_parent\"><img src=\"https://colab.research.google.com/assets/colab-badge.svg\" alt=\"Open In Colab\"/></a>"
      ]
    },
    {
      "cell_type": "code",
      "execution_count": 7,
      "metadata": {
        "colab": {
          "base_uri": "https://localhost:8080/"
        },
        "id": "jOEmS_DLwvsC",
        "outputId": "8fb0d5f9-474b-4c2b-8c56-574bebedbc64"
      },
      "outputs": [
        {
          "output_type": "stream",
          "name": "stdout",
          "text": [
            "Drive already mounted at /content/drive; to attempt to forcibly remount, call drive.mount(\"/content/drive\", force_remount=True).\n",
            "Bisection Method:\n",
            "Result:   message: \n",
            "          Optimization terminated successfully;\n",
            "          The returned value satisfies the termination criteria\n",
            "          (using xtol = 1.48e-08 )\n",
            " success: True\n",
            "     fun: 480865486976.5835\n",
            "       x: 8231.282662503949\n",
            "     nit: 22\n",
            "    nfev: 28\n",
            "Time Taken:  0.0008654594421386719 seconds\n",
            "Accuracy:  2.079583640500731e-12\n",
            "\n",
            "Golden Section Method:\n",
            "Result:   message: \n",
            "          Optimization terminated successfully;\n",
            "          The returned value satisfies the termination criteria\n",
            "          (using xtol = 1.4901161193847656e-08 )\n",
            " success: True\n",
            "     fun: 480865486976.5835\n",
            "       x: 8231.282085537361\n",
            "     nit: 38\n",
            "    nfev: 46\n",
            "Time Taken:  0.0008976459503173828 seconds\n",
            "Accuracy:  2.079583640500731e-12\n",
            "\n",
            "Armijo Rule:\n",
            "Result:    message: Optimization terminated successfully.\n",
            "  success: True\n",
            "   status: 0\n",
            "      fun: 480865486976.5835\n",
            "        x: [ 8.231e+03]\n",
            "      nit: 3\n",
            "      jac: [-1.746e-10]\n",
            " hess_inv: [[ 1.216e-03]]\n",
            "     nfev: 9\n",
            "     njev: 9\n",
            "Time Taken:  0.0011565685272216797 seconds\n",
            "Accuracy:  2.079583640500731e-12\n"
          ]
        }
      ],
      "source": [
        "from google.colab import files\n",
        "import time\n",
        "import numpy as np\n",
        "import pandas as pd\n",
        "from scipy.optimize import minimize_scalar, minimize\n",
        "\n",
        "from google.colab import drive\n",
        "drive.mount('/content/drive')\n",
        "\n",
        "path = \"/content/drive/My Drive/Datasets/\"\n",
        "\n",
        "#Read data from csv file\n",
        "dataset = pd.read_csv(path + \"BankChurners-Cleaned.csv\")\n",
        "\n",
        "# Extract the relevant columns from the dataset\n",
        "x_values = dataset['Avg_Utilization_Ratio'].values\n",
        "y_values = dataset['Credit_Limit'].values\n",
        "\n",
        "# Define the objective function that depends on the dataset\n",
        "def objective_function(x):\n",
        "    # Compute the error or loss using the dataset and x\n",
        "    # Modify this function according to your specific problem\n",
        "    predicted_values = x * x_values  # Example: Linear regression\n",
        "    error = np.sum((predicted_values - y_values) ** 2)  # Example: Sum of squared errors\n",
        "    return error\n",
        "\n",
        "# Define the derivative of the objective function (required for Armijo rule)\n",
        "def derivative_objective_function(x):\n",
        "    # Compute the derivative of the error with respect to x\n",
        "    # Modify this function according to your specific problem\n",
        "    predicted_values = x * x_values  # Example: Linear regression\n",
        "    error_derivative = 2 * np.sum((predicted_values - y_values) * x_values)  # Example: Derivative of squared errors\n",
        "    return error_derivative\n",
        "\n",
        "# Bisection Method\n",
        "start_time = time.time()\n",
        "bisection_result = minimize_scalar(objective_function, method='brent')\n",
        "bisection_time = time.time() - start_time\n",
        "\n",
        "# Golden Section Method\n",
        "start_time = time.time()\n",
        "golden_section_result = minimize_scalar(objective_function, method='golden')\n",
        "golden_section_time = time.time() - start_time\n",
        "\n",
        "# Armijo Rule\n",
        "start_time = time.time()\n",
        "armijo_result = minimize(objective_function, x0=1.0, method='BFGS', jac=derivative_objective_function, options={'gtol': 1e-6})\n",
        "armijo_time = time.time() - start_time\n",
        "\n",
        "# Accuracy assessment\n",
        "def compute_accuracy(result):\n",
        "    # Calculate the accuracy based on the optimized result\n",
        "    # Modify this function according to your specific problem\n",
        "    optimized_x = result.x  # Example: Linear regression parameter\n",
        "    predicted_values = optimized_x * x_values  # Example: Linear regression\n",
        "    error = np.sum((predicted_values - y_values) ** 2)  # Example: Sum of squared errors\n",
        "    accuracy = 1.0 / (1.0 + error)  # Example: Inverse of the error\n",
        "    return accuracy\n",
        "\n",
        "bisection_accuracy = compute_accuracy(bisection_result)\n",
        "golden_section_accuracy = compute_accuracy(golden_section_result)\n",
        "armijo_accuracy = compute_accuracy(armijo_result)\n",
        "\n",
        "# Print the results\n",
        "print(\"Bisection Method:\")\n",
        "print(\"Result: \", bisection_result)\n",
        "print(\"Time Taken: \", bisection_time, \"seconds\")\n",
        "print(\"Accuracy: \", bisection_accuracy)\n",
        "\n",
        "print(\"\\nGolden Section Method:\")\n",
        "print(\"Result: \", golden_section_result)\n",
        "print(\"Time Taken: \", golden_section_time, \"seconds\")\n",
        "print(\"Accuracy: \", golden_section_accuracy)\n",
        "\n",
        "print(\"\\nArmijo Rule:\")\n",
        "print(\"Result: \", armijo_result)\n",
        "print(\"Time Taken: \", armijo_time, \"seconds\")\n",
        "print(\"Accuracy: \", armijo_accuracy)\n"
      ]
    }
  ]
}